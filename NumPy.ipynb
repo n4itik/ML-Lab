{
  "nbformat": 4,
  "nbformat_minor": 0,
  "metadata": {
    "colab": {
      "name": "NumPy.ipynb",
      "provenance": [],
      "collapsed_sections": []
    },
    "kernelspec": {
      "name": "python3",
      "display_name": "Python 3"
    },
    "language_info": {
      "name": "python"
    }
  },
  "cells": [
    {
      "cell_type": "code",
      "execution_count": null,
      "metadata": {
        "id": "GCCM3yWRiPmn"
      },
      "outputs": [],
      "source": [
        "import numpy as np"
      ]
    },
    {
      "cell_type": "markdown",
      "source": [
        "***empty*** creates an array whose initial content is random and depends on the state of the memory."
      ],
      "metadata": {
        "id": "flBWh3EbkdlQ"
      }
    },
    {
      "cell_type": "code",
      "source": [
        "np.empty(2)"
      ],
      "metadata": {
        "colab": {
          "base_uri": "https://localhost:8080/"
        },
        "id": "jWHSnBjXj_EW",
        "outputId": "e80536e0-170a-4f15-9928-abda5300aff4"
      },
      "execution_count": null,
      "outputs": [
        {
          "output_type": "execute_result",
          "data": {
            "text/plain": [
              "array([4.6704843e-310, 0.0000000e+000])"
            ]
          },
          "metadata": {},
          "execution_count": 2
        }
      ]
    },
    {
      "cell_type": "markdown",
      "source": [
        "While the default data type is floating point (np.float64), you can explicitly specify which data type you want using the ***dtype*** keyword."
      ],
      "metadata": {
        "id": "vg2f6Aonkm2u"
      }
    },
    {
      "cell_type": "code",
      "source": [
        "arr = np.ones(2, dtype=np.int64)\n",
        "arr"
      ],
      "metadata": {
        "colab": {
          "base_uri": "https://localhost:8080/"
        },
        "id": "oATBx8Tuj7we",
        "outputId": "7fe6a6ea-645d-4809-9570-d5c3f2aee269"
      },
      "execution_count": null,
      "outputs": [
        {
          "output_type": "execute_result",
          "data": {
            "text/plain": [
              "array([1, 1])"
            ]
          },
          "metadata": {},
          "execution_count": 3
        }
      ]
    },
    {
      "cell_type": "code",
      "source": [
        "arr_3d = np.array([[[0, 1, 2, 3],\n",
        "                    [4, 5, 6, 7]],\n",
        "\n",
        "                   [[0, 1, 2, 3],\n",
        "                    [4, 5, 6, 7]],\n",
        "\n",
        "                   [[0, 1, 2, 3],\n",
        "                    [4, 5, 6, 7]]])\n"
      ],
      "metadata": {
        "id": "koIgIP4Hiod9"
      },
      "execution_count": null,
      "outputs": []
    },
    {
      "cell_type": "markdown",
      "source": [
        "***ndim*** will tell you the number of axes, or dimensions, of the array."
      ],
      "metadata": {
        "id": "lVCwFt3_k0nB"
      }
    },
    {
      "cell_type": "code",
      "source": [
        "arr_3d.ndim"
      ],
      "metadata": {
        "colab": {
          "base_uri": "https://localhost:8080/"
        },
        "id": "g8-onhc9i6hb",
        "outputId": "53301047-379a-4686-840e-9be44aada42b"
      },
      "execution_count": null,
      "outputs": [
        {
          "output_type": "execute_result",
          "data": {
            "text/plain": [
              "3"
            ]
          },
          "metadata": {},
          "execution_count": 5
        }
      ]
    },
    {
      "cell_type": "markdown",
      "source": [
        "***size*** will tell you the total number of elements of the array."
      ],
      "metadata": {
        "id": "uNGqZQ1wk2Po"
      }
    },
    {
      "cell_type": "code",
      "source": [
        "arr_3d.size"
      ],
      "metadata": {
        "colab": {
          "base_uri": "https://localhost:8080/"
        },
        "id": "oXFLoaCPjA2f",
        "outputId": "0b7ab986-560f-4060-a67f-0e0d0ace1bff"
      },
      "execution_count": null,
      "outputs": [
        {
          "output_type": "execute_result",
          "data": {
            "text/plain": [
              "24"
            ]
          },
          "metadata": {},
          "execution_count": 6
        }
      ]
    },
    {
      "cell_type": "markdown",
      "source": [
        "***shape*** will display a tuple of integers that indicate the number of elements stored along each dimension of the array.\n",
        "\n"
      ],
      "metadata": {
        "id": "KPyN0Yt8k5DN"
      }
    },
    {
      "cell_type": "code",
      "source": [
        "arr_3d.shape"
      ],
      "metadata": {
        "colab": {
          "base_uri": "https://localhost:8080/"
        },
        "id": "j-xuY-zmjC12",
        "outputId": "2aa65221-309a-4416-b5d7-1128526b5b1e"
      },
      "execution_count": null,
      "outputs": [
        {
          "output_type": "execute_result",
          "data": {
            "text/plain": [
              "(3, 2, 4)"
            ]
          },
          "metadata": {},
          "execution_count": 7
        }
      ]
    },
    {
      "cell_type": "markdown",
      "source": [
        "***arange*** is used to create an array with a range of elements. The parameters are first number, last number and the step size respectively."
      ],
      "metadata": {
        "id": "Vi5pquezlGUN"
      }
    },
    {
      "cell_type": "code",
      "source": [
        "np.arange(2,9,2)"
      ],
      "metadata": {
        "colab": {
          "base_uri": "https://localhost:8080/"
        },
        "id": "zKfs6KLhjFb7",
        "outputId": "64d3a0fd-72d4-4eac-d92d-bc79bbbc43c7"
      },
      "execution_count": null,
      "outputs": [
        {
          "output_type": "execute_result",
          "data": {
            "text/plain": [
              "array([2, 4, 6, 8])"
            ]
          },
          "metadata": {},
          "execution_count": 8
        }
      ]
    },
    {
      "cell_type": "code",
      "source": [
        "arr = np.arange(6)\n",
        "print(arr)"
      ],
      "metadata": {
        "colab": {
          "base_uri": "https://localhost:8080/"
        },
        "id": "09OJtP_ejWZV",
        "outputId": "ed3fc72d-1e8b-4780-840c-f7cad381df3c"
      },
      "execution_count": null,
      "outputs": [
        {
          "output_type": "stream",
          "name": "stdout",
          "text": [
            "[0 1 2 3 4 5]\n"
          ]
        }
      ]
    },
    {
      "cell_type": "markdown",
      "source": [
        "***reshape*** will give a new shape to an array without changing the data."
      ],
      "metadata": {
        "id": "_c-fze3ElUjo"
      }
    },
    {
      "cell_type": "code",
      "source": [
        "new_arr = arr.reshape(3,2)\n",
        "print(new_arr)"
      ],
      "metadata": {
        "colab": {
          "base_uri": "https://localhost:8080/"
        },
        "id": "oR5uvEAMjcJP",
        "outputId": "5ce13e30-1cab-4a97-e70f-01642a78c6f0"
      },
      "execution_count": null,
      "outputs": [
        {
          "output_type": "stream",
          "name": "stdout",
          "text": [
            "[[0 1]\n",
            " [2 3]\n",
            " [4 5]]\n"
          ]
        }
      ]
    },
    {
      "cell_type": "markdown",
      "source": [
        "***resize*** will resize an array in-place."
      ],
      "metadata": {
        "id": "XVtkLw5knhSh"
      }
    },
    {
      "cell_type": "code",
      "source": [
        "arr = np.array([[0,1],[2,3]])"
      ],
      "metadata": {
        "id": "bBOzfmsPnmga"
      },
      "execution_count": null,
      "outputs": []
    },
    {
      "cell_type": "code",
      "source": [
        "np.resize(arr,(2,3))"
      ],
      "metadata": {
        "colab": {
          "base_uri": "https://localhost:8080/"
        },
        "id": "9izy86jvnrFp",
        "outputId": "ef309328-1f27-42a9-c730-1c4664194075"
      },
      "execution_count": null,
      "outputs": [
        {
          "output_type": "execute_result",
          "data": {
            "text/plain": [
              "array([[0, 1, 2],\n",
              "       [3, 0, 1]])"
            ]
          },
          "metadata": {},
          "execution_count": 12
        }
      ]
    },
    {
      "cell_type": "markdown",
      "source": [
        "***flatten*** is used to convert your array into a 1D array."
      ],
      "metadata": {
        "id": "dy6aAABolZsX"
      }
    },
    {
      "cell_type": "code",
      "source": [
        "arr = np.array([[1 , 2, 3, 4], [5, 6, 7, 8], [9, 10, 11, 12]])\n",
        "arr.flatten()"
      ],
      "metadata": {
        "colab": {
          "base_uri": "https://localhost:8080/"
        },
        "id": "QykaY8ksjnGL",
        "outputId": "0dabd406-6b98-4793-c3d3-bb6553539305"
      },
      "execution_count": null,
      "outputs": [
        {
          "output_type": "execute_result",
          "data": {
            "text/plain": [
              "array([ 1,  2,  3,  4,  5,  6,  7,  8,  9, 10, 11, 12])"
            ]
          },
          "metadata": {},
          "execution_count": 13
        }
      ]
    }
  ]
}